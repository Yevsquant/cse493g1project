{
  "nbformat": 4,
  "nbformat_minor": 0,
  "metadata": {
    "colab": {
      "provenance": [],
      "authorship_tag": "ABX9TyMDT3q9qAbkyXk1PwCwC4FV",
      "include_colab_link": true
    },
    "kernelspec": {
      "name": "python3",
      "display_name": "Python 3"
    },
    "language_info": {
      "name": "python"
    }
  },
  "cells": [
    {
      "cell_type": "markdown",
      "metadata": {
        "id": "view-in-github",
        "colab_type": "text"
      },
      "source": [
        "<a href=\"https://colab.research.google.com/github/Yevsquant/cse493g1project/blob/main/Graph_Image_Generator.ipynb\" target=\"_parent\"><img src=\"https://colab.research.google.com/assets/colab-badge.svg\" alt=\"Open In Colab\"/></a>"
      ]
    },
    {
      "cell_type": "code",
      "execution_count": null,
      "metadata": {
        "id": "RxYeoHlKMv6V"
      },
      "outputs": [],
      "source": [
        "import os\n",
        "import numpy as np\n",
        "import random\n",
        "import math\n",
        "from PIL import Image\n",
        "import networkx as nx\n",
        "import matplotlib.pyplot as plt"
      ]
    },
    {
      "cell_type": "code",
      "source": [
        "# Specify the path of the intended folder\n",
        "folder_path = '/content/graph_images'\n",
        "\n",
        "# Check if the folder doesn't exist, then create it\n",
        "if not os.path.exists(folder_path):\n",
        "    os.makedirs(folder_path)\n",
        "    print(f\"Folder '{folder_path}' created.\")\n",
        "else:\n",
        "    print(f\"Folder '{folder_path}' already exists.\")"
      ],
      "metadata": {
        "id": "D6ET-cScM5nY"
      },
      "execution_count": null,
      "outputs": []
    },
    {
      "cell_type": "code",
      "source": [
        "random.seed(493) # change the random seed to generate diff graphs\n",
        "n = random.randint(1, 40)\n",
        "m = random.randint(0, 80)\n",
        "nodes = random.sample(range(0, 100), n)\n",
        "edge_left = random.choices(nodes, k=m)\n",
        "edge_right = random.choices(nodes, k=m)\n",
        "edges = list(zip(edge_left, edge_right))\n",
        "print(\"n:\", n, \" m:\", m)\n",
        "print(\"nodes:\", nodes)\n",
        "print(\"edges:\", edges)"
      ],
      "metadata": {
        "id": "fpRtqr3uM7nZ"
      },
      "execution_count": null,
      "outputs": []
    },
    {
      "cell_type": "code",
      "source": [
        "\"\"\"\n",
        "Generate a image(528, 528, 3) corresponding to input graph(nodes, edges)\n",
        "nodes(list): all nodes in a graph, randomly assigned in range [0, 100)\n",
        "edges(list): all edges in a graph with the given nodes\n",
        "img_number(int): denote the img_number-th image would be generated\n",
        "            <'gi' + img_number> is the name of the generated image\n",
        "\"\"\"\n",
        "def graph_to_image(nodes, edges, img_number):\n",
        "  n = len(nodes)\n",
        "\n",
        "  # Generate a graph\n",
        "  G = nx.Graph()\n",
        "  G.add_nodes_from(nodes)\n",
        "  G.add_edges_from(edges)\n",
        "\n",
        "  \"\"\"\n",
        "  nx.circular_layout, nx.planar_layout, nx.kamada_kawai_layout work well for our problem.\n",
        "  nx.planar_layout fits with our problem best but has an issue of edges crossing irelavant\n",
        "  nodes. (All these three layouts have the problem.) nx.kamada_kawai_layout works the best\n",
        "  in edges crossing irelavant nodes, but still has the problem when the there is\n",
        "  self-pointing node.\n",
        "  \"\"\"\n",
        "  #pos = nx.circular_layout(G, scale=1)\n",
        "  #pos = nx.planar_layout(G)\n",
        "  pos = nx.kamada_kawai_layout(G)\n",
        "\n",
        "  # Draw the generated graph\n",
        "  nx.draw(G, pos, with_labels=True, font_weight='bold',\n",
        "          node_color='white', edgecolors='black', font_size=8, font_color='black',\n",
        "          edge_color='black', linewidths=1)\n",
        "\n",
        "  # Generate the figure\n",
        "  fig = plt.gcf().set_size_inches(512/80, 512/80, forward=False)\n",
        "  save_path = '/content/graph_images/gi' + str(img_number) +'.png'\n",
        "  plt.savefig(save_path, format='png', dpi=80, bbox_inches='tight')\n",
        "\n",
        "  # Show the plot, used for debug\n",
        "  plt.show()\n",
        "  return save_path"
      ],
      "metadata": {
        "id": "LycT9TMgNCTW"
      },
      "execution_count": null,
      "outputs": []
    },
    {
      "cell_type": "code",
      "source": [
        "def image_to_vectors(src_path):\n",
        "  # Open the image\n",
        "  with Image.open(src_path) as image:\n",
        "    image = image.convert(\"RGB\")\n",
        "\n",
        "    # Convert the image to a NumPy array\n",
        "    image_array = np.array(image)\n",
        "    image.close()\n",
        "\n",
        "  return image_array"
      ],
      "metadata": {
        "id": "p5gpB6i0NGak"
      },
      "execution_count": null,
      "outputs": []
    },
    {
      "cell_type": "code",
      "source": [
        "# example\n",
        "nodes0 = [94, 35, 31, 28, 17, 99, 13, 86, 69, 11, 75, 54, 4, 3, 90, 27, 29, 64,\n",
        "         77, 92, 71, 25, 91, 53, 96, 57, 98, 0, 20, 88, 43, 73, 19, 84, 81, 93,\n",
        "         85, 24, 6, 22]\n",
        "edges0 = [(91, 75), (6, 88), (29, 96), (31, 64), (88, 93), (81, 90), (86, 71),\n",
        "         (96, 28), (99, 81), (64, 98), (11, 35), (98, 57), (71, 22), (92, 4),\n",
        "         (54, 69), (77, 31), (13, 13), (22, 77), (85, 0), (35, 53), (84, 27),\n",
        "         (93, 43), (25, 73), (20, 17), (28, 20), (53, 24), (17, 19), (24, 54),\n",
        "         (75, 92), (73, 91), (43, 29), (57, 84), (69, 25), (0, 85), (4, 6),\n",
        "         (19, 99), (94, 3), (3, 94), (27, 86), (90, 11)]\n",
        "path0 = graph_to_image(nodes0, edges0, 0)\n",
        "arr0 = image_to_vectors(path0)\n",
        "print(arr0.shape, type(arr0)) # we generate a image array with shape (528, 528, 3)"
      ],
      "metadata": {
        "id": "93Jon9tHNJGk"
      },
      "execution_count": null,
      "outputs": []
    }
  ]
}